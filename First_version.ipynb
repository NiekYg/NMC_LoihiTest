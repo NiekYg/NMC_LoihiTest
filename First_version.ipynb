{
 "cells": [
  {
   "cell_type": "code",
   "execution_count": 5,
   "id": "7699523b-9023-4406-8add-f2f8fced83b6",
   "metadata": {},
   "outputs": [],
   "source": [
    "import torch\n",
    "from torchvision import datasets, transforms"
   ]
  },
  {
   "cell_type": "code",
   "execution_count": 4,
   "id": "f6d04dbd-7194-4d8e-8b48-8392452331ab",
   "metadata": {},
   "outputs": [
    {
     "name": "stdout",
     "output_type": "stream",
     "text": [
      "Collecting torch\n",
      "  Using cached torch-2.1.1-cp38-cp38-manylinux1_x86_64.whl (670.2 MB)\n",
      "Collecting torchvision\n",
      "  Using cached torchvision-0.16.1-cp38-cp38-manylinux1_x86_64.whl (6.8 MB)\n",
      "Requirement already satisfied: triton==2.1.0 in ./nengoloihi/miniconda/envs/nengoloihi38/lib/python3.8/site-packages (from torch) (2.1.0)\n",
      "Requirement already satisfied: nvidia-cusparse-cu12==12.1.0.106 in ./nengoloihi/miniconda/envs/nengoloihi38/lib/python3.8/site-packages (from torch) (12.1.0.106)\n",
      "Collecting nvidia-cuda-nvrtc-cu12==12.1.105\n",
      "  Using cached nvidia_cuda_nvrtc_cu12-12.1.105-py3-none-manylinux1_x86_64.whl (23.7 MB)\n",
      "Collecting nvidia-cuda-cupti-cu12==12.1.105\n",
      "  Using cached nvidia_cuda_cupti_cu12-12.1.105-py3-none-manylinux1_x86_64.whl (14.1 MB)\n",
      "Requirement already satisfied: nvidia-cufft-cu12==11.0.2.54 in ./nengoloihi/miniconda/envs/nengoloihi38/lib/python3.8/site-packages (from torch) (11.0.2.54)\n",
      "Requirement already satisfied: nvidia-cublas-cu12==12.1.3.1 in ./nengoloihi/miniconda/envs/nengoloihi38/lib/python3.8/site-packages (from torch) (12.1.3.1)\n",
      "Collecting fsspec\n",
      "  Using cached fsspec-2023.10.0-py3-none-any.whl (166 kB)\n",
      "Requirement already satisfied: jinja2 in ./nengoloihi/miniconda/envs/nengoloihi38/lib/python3.8/site-packages (from torch) (3.1.2)\n",
      "Collecting nvidia-cudnn-cu12==8.9.2.26\n",
      "  Using cached nvidia_cudnn_cu12-8.9.2.26-py3-none-manylinux1_x86_64.whl (731.7 MB)\n",
      "Requirement already satisfied: nvidia-curand-cu12==10.3.2.106 in ./nengoloihi/miniconda/envs/nengoloihi38/lib/python3.8/site-packages (from torch) (10.3.2.106)\n",
      "Requirement already satisfied: sympy in ./nengoloihi/miniconda/envs/nengoloihi38/lib/python3.8/site-packages (from torch) (1.12)\n",
      "Requirement already satisfied: nvidia-cusolver-cu12==11.4.5.107 in ./nengoloihi/miniconda/envs/nengoloihi38/lib/python3.8/site-packages (from torch) (11.4.5.107)\n",
      "Requirement already satisfied: nvidia-nvtx-cu12==12.1.105 in ./nengoloihi/miniconda/envs/nengoloihi38/lib/python3.8/site-packages (from torch) (12.1.105)\n",
      "Requirement already satisfied: networkx in ./nengoloihi/miniconda/envs/nengoloihi38/lib/python3.8/site-packages (from torch) (3.1)\n",
      "Requirement already satisfied: nvidia-nccl-cu12==2.18.1 in ./nengoloihi/miniconda/envs/nengoloihi38/lib/python3.8/site-packages (from torch) (2.18.1)\n",
      "Requirement already satisfied: filelock in ./nengoloihi/miniconda/envs/nengoloihi38/lib/python3.8/site-packages (from torch) (3.13.1)\n",
      "Requirement already satisfied: typing-extensions in ./nengoloihi/miniconda/envs/nengoloihi38/lib/python3.8/site-packages (from torch) (4.8.0)\n",
      "Collecting nvidia-cuda-runtime-cu12==12.1.105\n",
      "  Using cached nvidia_cuda_runtime_cu12-12.1.105-py3-none-manylinux1_x86_64.whl (823 kB)\n",
      "Requirement already satisfied: nvidia-nvjitlink-cu12 in ./nengoloihi/miniconda/envs/nengoloihi38/lib/python3.8/site-packages (from nvidia-cusolver-cu12==11.4.5.107->torch) (12.3.101)\n",
      "Requirement already satisfied: numpy in ./nengoloihi/miniconda/envs/nengoloihi38/lib/python3.8/site-packages (from torchvision) (1.24.3)\n",
      "Requirement already satisfied: requests in ./nengoloihi/miniconda/envs/nengoloihi38/lib/python3.8/site-packages (from torchvision) (2.31.0)\n",
      "Requirement already satisfied: pillow!=8.3.*,>=5.3.0 in ./nengoloihi/miniconda/envs/nengoloihi38/lib/python3.8/site-packages (from torchvision) (10.1.0)\n",
      "Requirement already satisfied: MarkupSafe>=2.0 in ./nengoloihi/miniconda/envs/nengoloihi38/lib/python3.8/site-packages (from jinja2->torch) (2.1.3)\n",
      "Requirement already satisfied: charset-normalizer<4,>=2 in ./nengoloihi/miniconda/envs/nengoloihi38/lib/python3.8/site-packages (from requests->torchvision) (3.3.0)\n",
      "Requirement already satisfied: certifi>=2017.4.17 in ./nengoloihi/miniconda/envs/nengoloihi38/lib/python3.8/site-packages (from requests->torchvision) (2023.7.22)\n",
      "Requirement already satisfied: idna<4,>=2.5 in ./nengoloihi/miniconda/envs/nengoloihi38/lib/python3.8/site-packages (from requests->torchvision) (3.4)\n",
      "Requirement already satisfied: urllib3<3,>=1.21.1 in ./nengoloihi/miniconda/envs/nengoloihi38/lib/python3.8/site-packages (from requests->torchvision) (2.0.7)\n",
      "Requirement already satisfied: mpmath>=0.19 in ./nengoloihi/miniconda/envs/nengoloihi38/lib/python3.8/site-packages (from sympy->torch) (1.3.0)\n",
      "Installing collected packages: nvidia-cudnn-cu12, nvidia-cuda-runtime-cu12, nvidia-cuda-nvrtc-cu12, nvidia-cuda-cupti-cu12, fsspec, torch, torchvision\n",
      "Successfully installed fsspec-2023.10.0 nvidia-cuda-cupti-cu12-12.1.105 nvidia-cuda-nvrtc-cu12-12.1.105 nvidia-cuda-runtime-cu12-12.1.105 nvidia-cudnn-cu12-8.9.2.26 torch-2.1.1 torchvision-0.16.1\n"
     ]
    }
   ],
   "source": [
    "!pip install torch torchvision\n"
   ]
  },
  {
   "cell_type": "code",
   "execution_count": 7,
   "id": "b2d512f2-b3a4-4bf2-b76c-909beb9f8f8d",
   "metadata": {},
   "outputs": [
    {
     "name": "stdout",
     "output_type": "stream",
     "text": [
      "Collecting spikingjelly\n",
      "  Downloading spikingjelly-0.0.0.0.14-py3-none-any.whl (437 kB)\n",
      "\u001b[K     |████████████████████████████████| 437 kB 5.3 MB/s eta 0:00:01\n",
      "\u001b[?25hCollecting tqdm\n",
      "  Downloading tqdm-4.66.1-py3-none-any.whl (78 kB)\n",
      "\u001b[K     |████████████████████████████████| 78 kB 2.6 MB/s  eta 0:00:01\n",
      "\u001b[?25hRequirement already satisfied: torchvision in ./nengoloihi/miniconda/envs/nengoloihi38/lib/python3.8/site-packages (from spikingjelly) (0.16.1)\n",
      "Requirement already satisfied: torch in ./nengoloihi/miniconda/envs/nengoloihi38/lib/python3.8/site-packages (from spikingjelly) (2.1.1)\n",
      "Requirement already satisfied: matplotlib in ./nengoloihi/miniconda/envs/nengoloihi38/lib/python3.8/site-packages (from spikingjelly) (3.7.3)\n",
      "Requirement already satisfied: scipy in ./nengoloihi/miniconda/envs/nengoloihi38/lib/python3.8/site-packages (from spikingjelly) (1.10.1)\n",
      "Requirement already satisfied: numpy in ./nengoloihi/miniconda/envs/nengoloihi38/lib/python3.8/site-packages (from spikingjelly) (1.24.3)\n",
      "Requirement already satisfied: contourpy>=1.0.1 in ./nengoloihi/miniconda/envs/nengoloihi38/lib/python3.8/site-packages (from matplotlib->spikingjelly) (1.1.1)\n",
      "Requirement already satisfied: fonttools>=4.22.0 in ./nengoloihi/miniconda/envs/nengoloihi38/lib/python3.8/site-packages (from matplotlib->spikingjelly) (4.43.1)\n",
      "Requirement already satisfied: pillow>=6.2.0 in ./nengoloihi/miniconda/envs/nengoloihi38/lib/python3.8/site-packages (from matplotlib->spikingjelly) (10.1.0)\n",
      "Requirement already satisfied: cycler>=0.10 in ./nengoloihi/miniconda/envs/nengoloihi38/lib/python3.8/site-packages (from matplotlib->spikingjelly) (0.12.1)\n",
      "Requirement already satisfied: pyparsing>=2.3.1 in ./nengoloihi/miniconda/envs/nengoloihi38/lib/python3.8/site-packages (from matplotlib->spikingjelly) (3.1.1)\n",
      "Requirement already satisfied: importlib-resources>=3.2.0 in ./nengoloihi/miniconda/envs/nengoloihi38/lib/python3.8/site-packages (from matplotlib->spikingjelly) (6.1.0)\n",
      "Requirement already satisfied: kiwisolver>=1.0.1 in ./nengoloihi/miniconda/envs/nengoloihi38/lib/python3.8/site-packages (from matplotlib->spikingjelly) (1.4.5)\n",
      "Requirement already satisfied: packaging>=20.0 in ./nengoloihi/miniconda/envs/nengoloihi38/lib/python3.8/site-packages (from matplotlib->spikingjelly) (23.2)\n",
      "Requirement already satisfied: python-dateutil>=2.7 in ./nengoloihi/miniconda/envs/nengoloihi38/lib/python3.8/site-packages (from matplotlib->spikingjelly) (2.8.2)\n",
      "Requirement already satisfied: zipp>=3.1.0 in ./nengoloihi/miniconda/envs/nengoloihi38/lib/python3.8/site-packages (from importlib-resources>=3.2.0->matplotlib->spikingjelly) (3.17.0)\n",
      "Requirement already satisfied: six>=1.5 in ./nengoloihi/miniconda/envs/nengoloihi38/lib/python3.8/site-packages (from python-dateutil>=2.7->matplotlib->spikingjelly) (1.16.0)\n",
      "Requirement already satisfied: nvidia-cublas-cu12==12.1.3.1 in ./nengoloihi/miniconda/envs/nengoloihi38/lib/python3.8/site-packages (from torch->spikingjelly) (12.1.3.1)\n",
      "Requirement already satisfied: filelock in ./nengoloihi/miniconda/envs/nengoloihi38/lib/python3.8/site-packages (from torch->spikingjelly) (3.13.1)\n",
      "Requirement already satisfied: nvidia-cuda-cupti-cu12==12.1.105 in ./nengoloihi/miniconda/envs/nengoloihi38/lib/python3.8/site-packages (from torch->spikingjelly) (12.1.105)\n",
      "Requirement already satisfied: nvidia-nvtx-cu12==12.1.105 in ./nengoloihi/miniconda/envs/nengoloihi38/lib/python3.8/site-packages (from torch->spikingjelly) (12.1.105)\n",
      "Requirement already satisfied: nvidia-cufft-cu12==11.0.2.54 in ./nengoloihi/miniconda/envs/nengoloihi38/lib/python3.8/site-packages (from torch->spikingjelly) (11.0.2.54)\n",
      "Requirement already satisfied: triton==2.1.0 in ./nengoloihi/miniconda/envs/nengoloihi38/lib/python3.8/site-packages (from torch->spikingjelly) (2.1.0)\n",
      "Requirement already satisfied: nvidia-cuda-runtime-cu12==12.1.105 in ./nengoloihi/miniconda/envs/nengoloihi38/lib/python3.8/site-packages (from torch->spikingjelly) (12.1.105)\n",
      "Requirement already satisfied: nvidia-cudnn-cu12==8.9.2.26 in ./nengoloihi/miniconda/envs/nengoloihi38/lib/python3.8/site-packages (from torch->spikingjelly) (8.9.2.26)\n",
      "Requirement already satisfied: typing-extensions in ./nengoloihi/miniconda/envs/nengoloihi38/lib/python3.8/site-packages (from torch->spikingjelly) (4.8.0)\n",
      "Requirement already satisfied: nvidia-cusolver-cu12==11.4.5.107 in ./nengoloihi/miniconda/envs/nengoloihi38/lib/python3.8/site-packages (from torch->spikingjelly) (11.4.5.107)\n",
      "Requirement already satisfied: nvidia-nccl-cu12==2.18.1 in ./nengoloihi/miniconda/envs/nengoloihi38/lib/python3.8/site-packages (from torch->spikingjelly) (2.18.1)\n",
      "Requirement already satisfied: fsspec in ./nengoloihi/miniconda/envs/nengoloihi38/lib/python3.8/site-packages (from torch->spikingjelly) (2023.10.0)\n",
      "Requirement already satisfied: nvidia-curand-cu12==10.3.2.106 in ./nengoloihi/miniconda/envs/nengoloihi38/lib/python3.8/site-packages (from torch->spikingjelly) (10.3.2.106)\n",
      "Requirement already satisfied: nvidia-cusparse-cu12==12.1.0.106 in ./nengoloihi/miniconda/envs/nengoloihi38/lib/python3.8/site-packages (from torch->spikingjelly) (12.1.0.106)\n",
      "Requirement already satisfied: jinja2 in ./nengoloihi/miniconda/envs/nengoloihi38/lib/python3.8/site-packages (from torch->spikingjelly) (3.1.2)\n",
      "Requirement already satisfied: sympy in ./nengoloihi/miniconda/envs/nengoloihi38/lib/python3.8/site-packages (from torch->spikingjelly) (1.12)\n",
      "Requirement already satisfied: networkx in ./nengoloihi/miniconda/envs/nengoloihi38/lib/python3.8/site-packages (from torch->spikingjelly) (3.1)\n",
      "Requirement already satisfied: nvidia-cuda-nvrtc-cu12==12.1.105 in ./nengoloihi/miniconda/envs/nengoloihi38/lib/python3.8/site-packages (from torch->spikingjelly) (12.1.105)\n",
      "Requirement already satisfied: nvidia-nvjitlink-cu12 in ./nengoloihi/miniconda/envs/nengoloihi38/lib/python3.8/site-packages (from nvidia-cusolver-cu12==11.4.5.107->torch->spikingjelly) (12.3.101)\n",
      "Requirement already satisfied: MarkupSafe>=2.0 in ./nengoloihi/miniconda/envs/nengoloihi38/lib/python3.8/site-packages (from jinja2->torch->spikingjelly) (2.1.3)\n",
      "Requirement already satisfied: mpmath>=0.19 in ./nengoloihi/miniconda/envs/nengoloihi38/lib/python3.8/site-packages (from sympy->torch->spikingjelly) (1.3.0)\n",
      "Requirement already satisfied: requests in ./nengoloihi/miniconda/envs/nengoloihi38/lib/python3.8/site-packages (from torchvision->spikingjelly) (2.31.0)\n",
      "Requirement already satisfied: charset-normalizer<4,>=2 in ./nengoloihi/miniconda/envs/nengoloihi38/lib/python3.8/site-packages (from requests->torchvision->spikingjelly) (3.3.0)\n",
      "Requirement already satisfied: idna<4,>=2.5 in ./nengoloihi/miniconda/envs/nengoloihi38/lib/python3.8/site-packages (from requests->torchvision->spikingjelly) (3.4)\n",
      "Requirement already satisfied: urllib3<3,>=1.21.1 in ./nengoloihi/miniconda/envs/nengoloihi38/lib/python3.8/site-packages (from requests->torchvision->spikingjelly) (2.0.7)\n",
      "Requirement already satisfied: certifi>=2017.4.17 in ./nengoloihi/miniconda/envs/nengoloihi38/lib/python3.8/site-packages (from requests->torchvision->spikingjelly) (2023.7.22)\n",
      "Installing collected packages: tqdm, spikingjelly\n",
      "Successfully installed spikingjelly-0.0.0.0.14 tqdm-4.66.1\n"
     ]
    }
   ],
   "source": [
    "!pip install spikingjelly\n"
   ]
  },
  {
   "cell_type": "code",
   "execution_count": 8,
   "id": "4ba0bc74-66d9-4665-bfc0-0a9c76a13087",
   "metadata": {},
   "outputs": [
    {
     "name": "stderr",
     "output_type": "stream",
     "text": [
      "Matplotlib is building the font cache; this may take a moment.\n"
     ]
    },
    {
     "name": "stdout",
     "output_type": "stream",
     "text": [
      "7000\n",
      "3000\n"
     ]
    }
   ],
   "source": [
    "import torch\n",
    "from torchvision import datasets, transforms\n",
    "\n",
    "# Load train and validation datasets\n",
    "train_dataset = torch.load(\"final_project/train_dataset.pth\")\n",
    "val_dataset = torch.load(\"final_project/val_dataset.pth\")\n",
    "\n",
    "# Explore the datasets\n",
    "print(len(train_dataset))\n",
    "print(len(val_dataset))\n"
   ]
  },
  {
   "cell_type": "code",
   "execution_count": 4,
   "id": "53da99bf-9c1d-471f-b2a6-d55dfee9a40a",
   "metadata": {},
   "outputs": [],
   "source": [
    "import torch\n",
    "import torch.nn as nn\n",
    "import torch.nn.functional as F\n",
    "import spikingjelly.clock_driven.encoding as encoding\n",
    "\n",
    "class LIFNeuron(nn.Module):\n",
    "    def __init__(self, tau_syn=5.0, v_threshold=1.0, v_reset=0.0, initial_v=-1.0):\n",
    "        super(LIFNeuron, self).__init__()\n",
    "        self.tau_syn = tau_syn\n",
    "        self.v_threshold = v_threshold\n",
    "        self.v_reset = v_reset\n",
    "        self.initial_v = initial_v\n",
    "        self.synaptic_current = torch.zeros(1)\n",
    "\n",
    "    def forward(self, synaptic_input):\n",
    "        self.synaptic_current = torch.exp(-1.0 / self.tau_syn) * self.synaptic_current + synaptic_input\n",
    "        spike = (self.synaptic_current >= self.v_threshold).float()\n",
    "        self.synaptic_current = torch.where(spike > 0, torch.tensor(self.v_reset), self.synaptic_current)\n",
    "        return spike"
   ]
  },
  {
   "cell_type": "code",
   "execution_count": null,
   "id": "45debb47-d69d-489a-9ef3-b0c7780d6000",
   "metadata": {},
   "outputs": [],
   "source": []
  }
 ],
 "metadata": {
  "kernelspec": {
   "display_name": "Python 3 (ipykernel)",
   "language": "python",
   "name": "python3"
  },
  "language_info": {
   "codemirror_mode": {
    "name": "ipython",
    "version": 3
   },
   "file_extension": ".py",
   "mimetype": "text/x-python",
   "name": "python",
   "nbconvert_exporter": "python",
   "pygments_lexer": "ipython3",
   "version": "3.8.18"
  }
 },
 "nbformat": 4,
 "nbformat_minor": 5
}
