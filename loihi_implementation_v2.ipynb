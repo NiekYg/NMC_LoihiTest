{
 "cells": [
  {
   "cell_type": "code",
   "execution_count": 1,
   "id": "2182797d-3cc3-40a3-9b5d-6487a22c80a5",
   "metadata": {
    "id": "2182797d-3cc3-40a3-9b5d-6487a22c80a5"
   },
   "outputs": [
    {
     "name": "stdout",
     "output_type": "stream",
     "text": [
      "Requirement already satisfied: torch in ./nengoloihi/miniconda/envs/nengoloihi38/lib/python3.8/site-packages (2.0.0)\n",
      "Requirement already satisfied: torchvision in ./nengoloihi/miniconda/envs/nengoloihi38/lib/python3.8/site-packages (0.15.1)\n",
      "Requirement already satisfied: jinja2 in ./nengoloihi/miniconda/envs/nengoloihi38/lib/python3.8/site-packages (from torch) (3.1.2)\n",
      "Requirement already satisfied: nvidia-cuda-cupti-cu11==11.7.101 in ./nengoloihi/miniconda/envs/nengoloihi38/lib/python3.8/site-packages (from torch) (11.7.101)\n",
      "Requirement already satisfied: nvidia-cusolver-cu11==11.4.0.1 in ./nengoloihi/miniconda/envs/nengoloihi38/lib/python3.8/site-packages (from torch) (11.4.0.1)\n",
      "Requirement already satisfied: nvidia-cuda-nvrtc-cu11==11.7.99 in ./nengoloihi/miniconda/envs/nengoloihi38/lib/python3.8/site-packages (from torch) (11.7.99)\n",
      "Requirement already satisfied: nvidia-cublas-cu11==11.10.3.66 in ./nengoloihi/miniconda/envs/nengoloihi38/lib/python3.8/site-packages (from torch) (11.10.3.66)\n",
      "Requirement already satisfied: nvidia-cusparse-cu11==11.7.4.91 in ./nengoloihi/miniconda/envs/nengoloihi38/lib/python3.8/site-packages (from torch) (11.7.4.91)\n",
      "Requirement already satisfied: typing-extensions in ./nengoloihi/miniconda/envs/nengoloihi38/lib/python3.8/site-packages (from torch) (4.8.0)\n",
      "Requirement already satisfied: nvidia-nvtx-cu11==11.7.91 in ./nengoloihi/miniconda/envs/nengoloihi38/lib/python3.8/site-packages (from torch) (11.7.91)\n",
      "Requirement already satisfied: triton==2.0.0 in ./nengoloihi/miniconda/envs/nengoloihi38/lib/python3.8/site-packages (from torch) (2.0.0)\n",
      "Requirement already satisfied: sympy in ./nengoloihi/miniconda/envs/nengoloihi38/lib/python3.8/site-packages (from torch) (1.12)\n",
      "Requirement already satisfied: filelock in ./nengoloihi/miniconda/envs/nengoloihi38/lib/python3.8/site-packages (from torch) (3.13.1)\n",
      "Requirement already satisfied: networkx in ./nengoloihi/miniconda/envs/nengoloihi38/lib/python3.8/site-packages (from torch) (2.8.7)\n",
      "Requirement already satisfied: nvidia-nccl-cu11==2.14.3 in ./nengoloihi/miniconda/envs/nengoloihi38/lib/python3.8/site-packages (from torch) (2.14.3)\n",
      "Requirement already satisfied: nvidia-curand-cu11==10.2.10.91 in ./nengoloihi/miniconda/envs/nengoloihi38/lib/python3.8/site-packages (from torch) (10.2.10.91)\n",
      "Requirement already satisfied: nvidia-cuda-runtime-cu11==11.7.99 in ./nengoloihi/miniconda/envs/nengoloihi38/lib/python3.8/site-packages (from torch) (11.7.99)\n",
      "Requirement already satisfied: nvidia-cudnn-cu11==8.5.0.96 in ./nengoloihi/miniconda/envs/nengoloihi38/lib/python3.8/site-packages (from torch) (8.5.0.96)\n",
      "Requirement already satisfied: nvidia-cufft-cu11==10.9.0.58 in ./nengoloihi/miniconda/envs/nengoloihi38/lib/python3.8/site-packages (from torch) (10.9.0.58)\n",
      "Requirement already satisfied: wheel in ./nengoloihi/miniconda/envs/nengoloihi38/lib/python3.8/site-packages (from nvidia-cublas-cu11==11.10.3.66->torch) (0.41.2)\n",
      "Requirement already satisfied: setuptools in ./nengoloihi/miniconda/envs/nengoloihi38/lib/python3.8/site-packages (from nvidia-cublas-cu11==11.10.3.66->torch) (68.0.0)\n",
      "Requirement already satisfied: lit in ./nengoloihi/miniconda/envs/nengoloihi38/lib/python3.8/site-packages (from triton==2.0.0->torch) (17.0.6)\n",
      "Requirement already satisfied: cmake in ./nengoloihi/miniconda/envs/nengoloihi38/lib/python3.8/site-packages (from triton==2.0.0->torch) (3.28.1)\n",
      "Requirement already satisfied: pillow!=8.3.*,>=5.3.0 in ./nengoloihi/miniconda/envs/nengoloihi38/lib/python3.8/site-packages (from torchvision) (10.1.0)\n",
      "Requirement already satisfied: requests in ./nengoloihi/miniconda/envs/nengoloihi38/lib/python3.8/site-packages (from torchvision) (2.31.0)\n",
      "Requirement already satisfied: numpy in ./nengoloihi/miniconda/envs/nengoloihi38/lib/python3.8/site-packages (from torchvision) (1.24.4)\n",
      "Requirement already satisfied: MarkupSafe>=2.0 in ./nengoloihi/miniconda/envs/nengoloihi38/lib/python3.8/site-packages (from jinja2->torch) (2.1.3)\n",
      "Requirement already satisfied: charset-normalizer<4,>=2 in ./nengoloihi/miniconda/envs/nengoloihi38/lib/python3.8/site-packages (from requests->torchvision) (3.3.2)\n",
      "Requirement already satisfied: urllib3<3,>=1.21.1 in ./nengoloihi/miniconda/envs/nengoloihi38/lib/python3.8/site-packages (from requests->torchvision) (2.1.0)\n",
      "Requirement already satisfied: idna<4,>=2.5 in ./nengoloihi/miniconda/envs/nengoloihi38/lib/python3.8/site-packages (from requests->torchvision) (3.4)\n",
      "Requirement already satisfied: certifi>=2017.4.17 in ./nengoloihi/miniconda/envs/nengoloihi38/lib/python3.8/site-packages (from requests->torchvision) (2023.11.17)\n",
      "Requirement already satisfied: mpmath>=0.19 in ./nengoloihi/miniconda/envs/nengoloihi38/lib/python3.8/site-packages (from sympy->torch) (1.3.0)\n"
     ]
    }
   ],
   "source": [
    "!pip install torch torchvision"
   ]
  },
  {
   "cell_type": "code",
   "execution_count": 2,
   "id": "0d79929c-a3e0-46bf-bbd1-68badfd82dc3",
   "metadata": {},
   "outputs": [
    {
     "name": "stdout",
     "output_type": "stream",
     "text": [
      "Requirement already satisfied: lava in ./nengoloihi/miniconda/envs/nengoloihi38/lib/python3.8/site-packages (0.4.1)\n",
      "Requirement already satisfied: numpy in ./nengoloihi/miniconda/envs/nengoloihi38/lib/python3.8/site-packages (from lava) (1.24.4)\n",
      "Requirement already satisfied: future in ./nengoloihi/miniconda/envs/nengoloihi38/lib/python3.8/site-packages (from lava) (0.18.3)\n",
      "Requirement already satisfied: vulkan in ./nengoloihi/miniconda/envs/nengoloihi38/lib/python3.8/site-packages (from lava) (1.1.99.1)\n",
      "Requirement already satisfied: cffi>=1.10 in ./nengoloihi/miniconda/envs/nengoloihi38/lib/python3.8/site-packages (from vulkan->lava) (1.16.0)\n",
      "Requirement already satisfied: pycparser in ./nengoloihi/miniconda/envs/nengoloihi38/lib/python3.8/site-packages (from cffi>=1.10->vulkan->lava) (2.21)\n"
     ]
    }
   ],
   "source": [
    "!pip install lava"
   ]
  },
  {
   "cell_type": "code",
   "execution_count": 3,
   "id": "37598b2a-9e63-4e85-8977-2fe4ee790713",
   "metadata": {},
   "outputs": [
    {
     "name": "stdout",
     "output_type": "stream",
     "text": [
      "Requirement already satisfied: lava-dl in ./nengoloihi/miniconda/envs/nengoloihi38/lib/python3.8/site-packages (0.5.0)\n",
      "Requirement already satisfied: opencv-python-headless<5.0.0.0,>=4.8.1.78 in ./nengoloihi/miniconda/envs/nengoloihi38/lib/python3.8/site-packages (from lava-dl) (4.8.1.78)\n",
      "Requirement already satisfied: ninja<2.0.0.0,>=1.10.2.3 in ./nengoloihi/miniconda/envs/nengoloihi38/lib/python3.8/site-packages (from lava-dl) (1.11.1.1)\n",
      "Requirement already satisfied: unittest2<2.0.0,>=1.1.0 in ./nengoloihi/miniconda/envs/nengoloihi38/lib/python3.8/site-packages (from lava-dl) (1.1.0)\n",
      "Requirement already satisfied: matplotlib<4.0.0,>=3.5.2 in ./nengoloihi/miniconda/envs/nengoloihi38/lib/python3.8/site-packages (from lava-dl) (3.7.4)\n",
      "Requirement already satisfied: h5py<4.0.0,>=3.7.0 in ./nengoloihi/miniconda/envs/nengoloihi38/lib/python3.8/site-packages (from lava-dl) (3.10.0)\n",
      "Requirement already satisfied: pillow<11.0,>=10.0.1 in ./nengoloihi/miniconda/envs/nengoloihi38/lib/python3.8/site-packages (from lava-dl) (10.1.0)\n",
      "Requirement already satisfied: scipy<2.0.0,>=1.8.1 in ./nengoloihi/miniconda/envs/nengoloihi38/lib/python3.8/site-packages (from lava-dl) (1.10.1)\n",
      "Requirement already satisfied: lava-nc==0.9.0 in ./nengoloihi/miniconda/envs/nengoloihi38/lib/python3.8/site-packages (from lava-dl) (0.9.0)\n",
      "Requirement already satisfied: torchvision<0.16.0,>=0.15.1 in ./nengoloihi/miniconda/envs/nengoloihi38/lib/python3.8/site-packages (from lava-dl) (0.15.1)\n",
      "Requirement already satisfied: torch!=2.0.1,>=2.0.0 in ./nengoloihi/miniconda/envs/nengoloihi38/lib/python3.8/site-packages (from lava-dl) (2.0.0)\n",
      "Requirement already satisfied: numpy<2.0.0,>=1.24.4 in ./nengoloihi/miniconda/envs/nengoloihi38/lib/python3.8/site-packages (from lava-dl) (1.24.4)\n",
      "Requirement already satisfied: pytest<8.0.0,>=7.2.0 in ./nengoloihi/miniconda/envs/nengoloihi38/lib/python3.8/site-packages (from lava-dl) (7.4.3)\n",
      "Requirement already satisfied: networkx<=2.8.7 in ./nengoloihi/miniconda/envs/nengoloihi38/lib/python3.8/site-packages (from lava-nc==0.9.0->lava-dl) (2.8.7)\n",
      "Requirement already satisfied: asteval<0.10.0,>=0.9.31 in ./nengoloihi/miniconda/envs/nengoloihi38/lib/python3.8/site-packages (from lava-nc==0.9.0->lava-dl) (0.9.31)\n",
      "Requirement already satisfied: scikit-learn<2.0.0,>=1.3.1 in ./nengoloihi/miniconda/envs/nengoloihi38/lib/python3.8/site-packages (from lava-nc==0.9.0->lava-dl) (1.3.2)\n",
      "Requirement already satisfied: python-dateutil>=2.7 in ./nengoloihi/miniconda/envs/nengoloihi38/lib/python3.8/site-packages (from matplotlib<4.0.0,>=3.5.2->lava-dl) (2.8.2)\n",
      "Requirement already satisfied: importlib-resources>=3.2.0 in ./nengoloihi/miniconda/envs/nengoloihi38/lib/python3.8/site-packages (from matplotlib<4.0.0,>=3.5.2->lava-dl) (6.1.1)\n",
      "Requirement already satisfied: kiwisolver>=1.0.1 in ./nengoloihi/miniconda/envs/nengoloihi38/lib/python3.8/site-packages (from matplotlib<4.0.0,>=3.5.2->lava-dl) (1.4.5)\n",
      "Requirement already satisfied: fonttools>=4.22.0 in ./nengoloihi/miniconda/envs/nengoloihi38/lib/python3.8/site-packages (from matplotlib<4.0.0,>=3.5.2->lava-dl) (4.45.0)\n",
      "Requirement already satisfied: cycler>=0.10 in ./nengoloihi/miniconda/envs/nengoloihi38/lib/python3.8/site-packages (from matplotlib<4.0.0,>=3.5.2->lava-dl) (0.12.1)\n",
      "Requirement already satisfied: packaging>=20.0 in ./nengoloihi/miniconda/envs/nengoloihi38/lib/python3.8/site-packages (from matplotlib<4.0.0,>=3.5.2->lava-dl) (23.2)\n",
      "Requirement already satisfied: contourpy>=1.0.1 in ./nengoloihi/miniconda/envs/nengoloihi38/lib/python3.8/site-packages (from matplotlib<4.0.0,>=3.5.2->lava-dl) (1.1.1)\n",
      "Requirement already satisfied: pyparsing>=2.3.1 in ./nengoloihi/miniconda/envs/nengoloihi38/lib/python3.8/site-packages (from matplotlib<4.0.0,>=3.5.2->lava-dl) (3.1.1)\n",
      "Requirement already satisfied: zipp>=3.1.0 in ./nengoloihi/miniconda/envs/nengoloihi38/lib/python3.8/site-packages (from importlib-resources>=3.2.0->matplotlib<4.0.0,>=3.5.2->lava-dl) (3.17.0)\n",
      "Requirement already satisfied: iniconfig in ./nengoloihi/miniconda/envs/nengoloihi38/lib/python3.8/site-packages (from pytest<8.0.0,>=7.2.0->lava-dl) (2.0.0)\n",
      "Requirement already satisfied: exceptiongroup>=1.0.0rc8 in ./nengoloihi/miniconda/envs/nengoloihi38/lib/python3.8/site-packages (from pytest<8.0.0,>=7.2.0->lava-dl) (1.1.3)\n",
      "Requirement already satisfied: pluggy<2.0,>=0.12 in ./nengoloihi/miniconda/envs/nengoloihi38/lib/python3.8/site-packages (from pytest<8.0.0,>=7.2.0->lava-dl) (1.3.0)\n",
      "Requirement already satisfied: tomli>=1.0.0 in ./nengoloihi/miniconda/envs/nengoloihi38/lib/python3.8/site-packages (from pytest<8.0.0,>=7.2.0->lava-dl) (2.0.1)\n",
      "Requirement already satisfied: six>=1.5 in ./nengoloihi/miniconda/envs/nengoloihi38/lib/python3.8/site-packages (from python-dateutil>=2.7->matplotlib<4.0.0,>=3.5.2->lava-dl) (1.16.0)\n",
      "Requirement already satisfied: joblib>=1.1.1 in ./nengoloihi/miniconda/envs/nengoloihi38/lib/python3.8/site-packages (from scikit-learn<2.0.0,>=1.3.1->lava-nc==0.9.0->lava-dl) (1.3.2)\n",
      "Requirement already satisfied: threadpoolctl>=2.0.0 in ./nengoloihi/miniconda/envs/nengoloihi38/lib/python3.8/site-packages (from scikit-learn<2.0.0,>=1.3.1->lava-nc==0.9.0->lava-dl) (3.2.0)\n",
      "Requirement already satisfied: nvidia-cuda-nvrtc-cu11==11.7.99 in ./nengoloihi/miniconda/envs/nengoloihi38/lib/python3.8/site-packages (from torch!=2.0.1,>=2.0.0->lava-dl) (11.7.99)\n",
      "Requirement already satisfied: nvidia-cudnn-cu11==8.5.0.96 in ./nengoloihi/miniconda/envs/nengoloihi38/lib/python3.8/site-packages (from torch!=2.0.1,>=2.0.0->lava-dl) (8.5.0.96)\n",
      "Requirement already satisfied: filelock in ./nengoloihi/miniconda/envs/nengoloihi38/lib/python3.8/site-packages (from torch!=2.0.1,>=2.0.0->lava-dl) (3.13.1)\n",
      "Requirement already satisfied: nvidia-cuda-cupti-cu11==11.7.101 in ./nengoloihi/miniconda/envs/nengoloihi38/lib/python3.8/site-packages (from torch!=2.0.1,>=2.0.0->lava-dl) (11.7.101)\n",
      "Requirement already satisfied: nvidia-nvtx-cu11==11.7.91 in ./nengoloihi/miniconda/envs/nengoloihi38/lib/python3.8/site-packages (from torch!=2.0.1,>=2.0.0->lava-dl) (11.7.91)\n",
      "Requirement already satisfied: sympy in ./nengoloihi/miniconda/envs/nengoloihi38/lib/python3.8/site-packages (from torch!=2.0.1,>=2.0.0->lava-dl) (1.12)\n",
      "Requirement already satisfied: nvidia-cuda-runtime-cu11==11.7.99 in ./nengoloihi/miniconda/envs/nengoloihi38/lib/python3.8/site-packages (from torch!=2.0.1,>=2.0.0->lava-dl) (11.7.99)\n",
      "Requirement already satisfied: nvidia-cufft-cu11==10.9.0.58 in ./nengoloihi/miniconda/envs/nengoloihi38/lib/python3.8/site-packages (from torch!=2.0.1,>=2.0.0->lava-dl) (10.9.0.58)\n",
      "Requirement already satisfied: nvidia-cusparse-cu11==11.7.4.91 in ./nengoloihi/miniconda/envs/nengoloihi38/lib/python3.8/site-packages (from torch!=2.0.1,>=2.0.0->lava-dl) (11.7.4.91)\n",
      "Requirement already satisfied: typing-extensions in ./nengoloihi/miniconda/envs/nengoloihi38/lib/python3.8/site-packages (from torch!=2.0.1,>=2.0.0->lava-dl) (4.8.0)\n",
      "Requirement already satisfied: nvidia-cusolver-cu11==11.4.0.1 in ./nengoloihi/miniconda/envs/nengoloihi38/lib/python3.8/site-packages (from torch!=2.0.1,>=2.0.0->lava-dl) (11.4.0.1)\n",
      "Requirement already satisfied: jinja2 in ./nengoloihi/miniconda/envs/nengoloihi38/lib/python3.8/site-packages (from torch!=2.0.1,>=2.0.0->lava-dl) (3.1.2)\n",
      "Requirement already satisfied: nvidia-nccl-cu11==2.14.3 in ./nengoloihi/miniconda/envs/nengoloihi38/lib/python3.8/site-packages (from torch!=2.0.1,>=2.0.0->lava-dl) (2.14.3)\n",
      "Requirement already satisfied: triton==2.0.0 in ./nengoloihi/miniconda/envs/nengoloihi38/lib/python3.8/site-packages (from torch!=2.0.1,>=2.0.0->lava-dl) (2.0.0)\n",
      "Requirement already satisfied: nvidia-curand-cu11==10.2.10.91 in ./nengoloihi/miniconda/envs/nengoloihi38/lib/python3.8/site-packages (from torch!=2.0.1,>=2.0.0->lava-dl) (10.2.10.91)\n",
      "Requirement already satisfied: nvidia-cublas-cu11==11.10.3.66 in ./nengoloihi/miniconda/envs/nengoloihi38/lib/python3.8/site-packages (from torch!=2.0.1,>=2.0.0->lava-dl) (11.10.3.66)\n",
      "Requirement already satisfied: wheel in ./nengoloihi/miniconda/envs/nengoloihi38/lib/python3.8/site-packages (from nvidia-cublas-cu11==11.10.3.66->torch!=2.0.1,>=2.0.0->lava-dl) (0.41.2)\n",
      "Requirement already satisfied: setuptools in ./nengoloihi/miniconda/envs/nengoloihi38/lib/python3.8/site-packages (from nvidia-cublas-cu11==11.10.3.66->torch!=2.0.1,>=2.0.0->lava-dl) (68.0.0)\n",
      "Requirement already satisfied: lit in ./nengoloihi/miniconda/envs/nengoloihi38/lib/python3.8/site-packages (from triton==2.0.0->torch!=2.0.1,>=2.0.0->lava-dl) (17.0.6)\n",
      "Requirement already satisfied: cmake in ./nengoloihi/miniconda/envs/nengoloihi38/lib/python3.8/site-packages (from triton==2.0.0->torch!=2.0.1,>=2.0.0->lava-dl) (3.28.1)\n",
      "Requirement already satisfied: requests in ./nengoloihi/miniconda/envs/nengoloihi38/lib/python3.8/site-packages (from torchvision<0.16.0,>=0.15.1->lava-dl) (2.31.0)\n",
      "Requirement already satisfied: traceback2 in ./nengoloihi/miniconda/envs/nengoloihi38/lib/python3.8/site-packages (from unittest2<2.0.0,>=1.1.0->lava-dl) (1.4.0)\n",
      "Collecting argparse\n",
      "  Using cached argparse-1.4.0-py2.py3-none-any.whl (23 kB)\n",
      "Requirement already satisfied: MarkupSafe>=2.0 in ./nengoloihi/miniconda/envs/nengoloihi38/lib/python3.8/site-packages (from jinja2->torch!=2.0.1,>=2.0.0->lava-dl) (2.1.3)\n",
      "Requirement already satisfied: certifi>=2017.4.17 in ./nengoloihi/miniconda/envs/nengoloihi38/lib/python3.8/site-packages (from requests->torchvision<0.16.0,>=0.15.1->lava-dl) (2023.11.17)\n",
      "Requirement already satisfied: idna<4,>=2.5 in ./nengoloihi/miniconda/envs/nengoloihi38/lib/python3.8/site-packages (from requests->torchvision<0.16.0,>=0.15.1->lava-dl) (3.4)\n",
      "Requirement already satisfied: urllib3<3,>=1.21.1 in ./nengoloihi/miniconda/envs/nengoloihi38/lib/python3.8/site-packages (from requests->torchvision<0.16.0,>=0.15.1->lava-dl) (2.1.0)\n",
      "Requirement already satisfied: charset-normalizer<4,>=2 in ./nengoloihi/miniconda/envs/nengoloihi38/lib/python3.8/site-packages (from requests->torchvision<0.16.0,>=0.15.1->lava-dl) (3.3.2)\n",
      "Requirement already satisfied: mpmath>=0.19 in ./nengoloihi/miniconda/envs/nengoloihi38/lib/python3.8/site-packages (from sympy->torch!=2.0.1,>=2.0.0->lava-dl) (1.3.0)\n",
      "Requirement already satisfied: linecache2 in ./nengoloihi/miniconda/envs/nengoloihi38/lib/python3.8/site-packages (from traceback2->unittest2<2.0.0,>=1.1.0->lava-dl) (1.0.0)\n",
      "Installing collected packages: argparse\n",
      "Successfully installed argparse-1.4.0\n"
     ]
    }
   ],
   "source": [
    "!pip install lava-dl"
   ]
  },
  {
   "cell_type": "code",
   "execution_count": 12,
   "id": "889d9df8-2aa6-471d-b4e3-d262caf6fbab",
   "metadata": {},
   "outputs": [],
   "source": [
    "import torch\n",
    "from torchvision import datasets, transforms\n",
    "\n",
    "import logging\n",
    "import numpy as np\n",
    "import matplotlib.pyplot as plt\n",
    "\n",
    "from lava.magma.core.run_configs import Loihi2HwCfg\n",
    "from lava.magma.core.run_conditions import RunSteps\n",
    "from lava.proc.lif.process import LIF\n",
    "from lava.proc.dense.process import Dense\n",
    "from lava.utils.profiler import Profiler\n",
    "import h5py\n",
    "import lava.lib.dl.slayer as slayer\n",
    "from lava.lib.dl.slayer import neuron\n",
    "from lava.lib.dl.slayer import block\n",
    "\n",
    "np.set_printoptions(linewidth=110)  # Increase the line lenght of output cells."
   ]
  },
  {
   "cell_type": "code",
   "execution_count": 13,
   "id": "fff7378b-b5fb-40a7-b217-23a8998af18d",
   "metadata": {},
   "outputs": [],
   "source": [
    "class Network(torch.nn.Module):\n",
    "    def __init__(self):\n",
    "        ...\n",
    "        self.blocks = torch.nn.ModuleList(\n",
    "            [  # sequential network blocks\n",
    "                slayer.block.sigma_delta.Input(sdnn_params),\n",
    "                slayer.block.sigma_delta.Conv(sdnn_params, 3, 24, 3),\n",
    "                slayer.block.sigma_delta.Conv(sdnn_params, 24, 36, 3),\n",
    "                slayer.block.rf_iz.Conv(rf_params, 36, 64, 3, delay=True),\n",
    "                slayer.block.rf_iz.Conv(sdnn_cnn_params, 64, 64, 3, delay=True),\n",
    "                slayer.block.rf_iz.Flatten(),\n",
    "                slayer.block.alif.Dense(alif_params, 64 * 40, 100, delay=True),\n",
    "                slayer.block.cuba.Recurrent(cuba_params, 100, 50),\n",
    "                slayer.block.cuba.KWTA(cuba_params, 50, 50, num_winners=5),\n",
    "            ]\n",
    "        )\n",
    "\n",
    "    def forward(self, x):\n",
    "        for block in self.blocks:\n",
    "            # forward computation is as simple as calling the blocks in a loop\n",
    "            x = block(x)\n",
    "        return x\n",
    "\n",
    "    def export_hdf5(self, filename):\n",
    "        # network export to hdf5 format\n",
    "        h = h5py.File(filename, \"w\")\n",
    "        layer = h.create_group(\"layer\")\n",
    "        for i, b in enumerate(self.blocks):\n",
    "            b.export_hdf5(layer.create_group(f\"{i}\"))"
   ]
  },
  {
   "cell_type": "code",
   "execution_count": 10,
   "id": "75115b40-efba-469e-839e-ea4cf60c5ad2",
   "metadata": {},
   "outputs": [
    {
     "ename": "AttributeError",
     "evalue": "module 'lava.lib.dl.slayer' has no attribute 'Network'",
     "output_type": "error",
     "traceback": [
      "\u001b[0;31m---------------------------------------------------------------------------\u001b[0m",
      "\u001b[0;31mAttributeError\u001b[0m                            Traceback (most recent call last)",
      "Cell \u001b[0;32mIn[10], line 6\u001b[0m\n\u001b[1;32m      3\u001b[0m \u001b[38;5;28;01mfrom\u001b[39;00m \u001b[38;5;21;01mlava\u001b[39;00m\u001b[38;5;21;01m.\u001b[39;00m\u001b[38;5;21;01mlib\u001b[39;00m\u001b[38;5;21;01m.\u001b[39;00m\u001b[38;5;21;01mdl\u001b[39;00m\u001b[38;5;21;01m.\u001b[39;00m\u001b[38;5;21;01mslayer\u001b[39;00m \u001b[38;5;28;01mimport\u001b[39;00m neuron\n\u001b[1;32m      4\u001b[0m \u001b[38;5;28;01mfrom\u001b[39;00m \u001b[38;5;21;01mlava\u001b[39;00m\u001b[38;5;21;01m.\u001b[39;00m\u001b[38;5;21;01mlib\u001b[39;00m\u001b[38;5;21;01m.\u001b[39;00m\u001b[38;5;21;01mdl\u001b[39;00m\u001b[38;5;21;01m.\u001b[39;00m\u001b[38;5;21;01mslayer\u001b[39;00m \u001b[38;5;28;01mimport\u001b[39;00m block\n\u001b[0;32m----> 6\u001b[0m \u001b[38;5;28;01mclass\u001b[39;00m \u001b[38;5;21;01mLoihiNetwork\u001b[39;00m(\u001b[43mslayer\u001b[49m\u001b[38;5;241;43m.\u001b[39;49m\u001b[43mNetwork\u001b[49m):\n\u001b[1;32m      7\u001b[0m     \u001b[38;5;28;01mdef\u001b[39;00m \u001b[38;5;21m__init__\u001b[39m(\u001b[38;5;28mself\u001b[39m):\n\u001b[1;32m      8\u001b[0m         \u001b[38;5;28msuper\u001b[39m(LoihiNetwork, \u001b[38;5;28mself\u001b[39m)\u001b[38;5;241m.\u001b[39m\u001b[38;5;21m__init__\u001b[39m()\n",
      "\u001b[0;31mAttributeError\u001b[0m: module 'lava.lib.dl.slayer' has no attribute 'Network'"
     ]
    }
   ],
   "source": [
    "class LoihiNetwork(slayer.Network):\n",
    "    def __init__(self):\n",
    "        super(LoihiNetwork, self).__init__()\n",
    "\n",
    "        # Define neuron parameters\n",
    "        neuron_params = {\n",
    "            'threshold'     : 1.25,\n",
    "            'current_decay' : 0.25,\n",
    "            'voltage_decay' : 0.03,\n",
    "            'tau_grad'      : 0.03,\n",
    "            'scale_grad'    : 3,\n",
    "            'requires_grad' : True,\n",
    "        }\n",
    "        \n",
    "        # For dropout, this might require custom implementation in Lava\n",
    "        neuron_params_drop = {**neuron_params, 'dropout_prob': 0.05}\n",
    "\n",
    "        # Define the network blocks with dropout and delay\n",
    "        self.blocks = [\n",
    "            block.Dense(neuron_params_drop, 128*128*2, 512, weight_norm=True, delay=True),\n",
    "            block.Dense(neuron_params_drop, 512, 512, weight_norm=True, delay=True),\n",
    "            block.Dense(neuron_params, 512, 10, weight_norm=True),\n",
    "        ]\n",
    "\n",
    "    def forward(self, spike):\n",
    "        for block in self.blocks:\n",
    "            spike = block(spike)\n",
    "        return spike\n",
    "\n",
    "    def export_hdf5(self, filename):\n",
    "        # Network export to hdf5 format\n",
    "        with h5py.File(filename, 'w') as h:\n",
    "            layer_group = h.create_group('layer')\n",
    "            for i, block in enumerate(self.blocks):\n",
    "                block_group = layer_group.create_group(f'{i}')\n",
    "                # Export block parameters to HDF5\n",
    "                # This will require specific implementation based on Lava's API\n",
    "\n",
    "# Example usage\n",
    "network = LoihiNetwork()\n",
    "network.export_hdf5('network.hdf5')\n"
   ]
  },
  {
   "cell_type": "code",
   "execution_count": null,
   "id": "4fd06041-48c1-4381-895b-18997bb5973d",
   "metadata": {},
   "outputs": [],
   "source": [
    "import torch\n",
    "val_path = 'final_project/val_dataset.pth'\n",
    "train_path = 'final_project/train_dataset.pth'\n",
    "# Load the model\n",
    "test_val_dataset_loaded= torch.load(val_path)\n",
    "train_dataset_loaded= torch.load(train_path)"
   ]
  },
  {
   "cell_type": "code",
   "execution_count": null,
   "id": "a50712be-0235-4e9d-98a6-0de89661a1fa",
   "metadata": {},
   "outputs": [],
   "source": [
    "import tqdm\n",
    "import math\n",
    "import numpy as np\n",
    "import torch\n",
    "\n",
    "def split_to_train_test_set(train_ratio: float, origin_dataset, num_classes: int, random_split: bool = False):\n",
    "    '''\n",
    "    Splits the original dataset into train and test sets for Loihi.\n",
    "\n",
    "    :param train_ratio: Ratio of the original dataset to be used as the train set.\n",
    "    :param origin_dataset: The original dataset, preprocessed for SNNs if necessary.\n",
    "    :param num_classes: Total number of classes, e.g., 10 for the MNIST dataset.\n",
    "    :param random_split: If True, randomly split samples in each class.\n",
    "    :return: Tuple (train_set, test_set) suitable for training/testing on Loihi.\n",
    "    '''\n",
    "    label_idx = [[] for _ in range(num_classes)]\n",
    "\n",
    "    for i, item in enumerate(tqdm.tqdm(origin_dataset)):\n",
    "        y = item[1]\n",
    "        y = y.item() if isinstance(y, (np.ndarray, torch.Tensor)) else y\n",
    "        label_idx[y].append(i)\n",
    "\n",
    "    train_idx, test_idx = [], []\n",
    "    if random_split:\n",
    "        for labels in label_idx:\n",
    "            np.random.shuffle(labels)\n",
    "\n",
    "    for labels in label_idx:\n",
    "        pos = math.ceil(len(labels) * train_ratio)\n",
    "        train_idx.extend(labels[:pos])\n",
    "        test_idx.extend(labels[pos:])\n",
    "\n",
    "    # Note: Ensure the dataset is in a format suitable for SNNs here\n",
    "    return torch.utils.data.Subset(origin_dataset, train_idx), torch.utils.data.Subset(origin_dataset, test_idx)\n",
    "\n",
    "# Example usage\n",
    "# origin_dataset = <your_dataset_preprocessed_for_SNN>\n",
    "# train_set, test_set = split_to_train_test_set_loihi(0.8, origin_dataset, 10, random_split=True)\n"
   ]
  },
  {
   "cell_type": "code",
   "execution_count": null,
   "id": "830d5ec8-2743-430b-8fa2-73d5882be12c",
   "metadata": {},
   "outputs": [],
   "source": [
    "def load_npz_frames(file_name: str) -> np.ndarray:\n",
    "    '''\n",
    "    :param file_name: path of the npz file that saves the frames\n",
    "    :type file_name: str\n",
    "    :return: frames\n",
    "    :rtype: np.ndarray\n",
    "    '''\n",
    "    return np.load(file_name, allow_pickle=True)['frames'].astype(np.float32)"
   ]
  },
  {
   "cell_type": "code",
   "execution_count": null,
   "id": "b8842f72-ba97-4b1e-b622-c1afd432b7ec",
   "metadata": {},
   "outputs": [],
   "source": [
    "import torchvision\n",
    "test_ds = torchvision.datasets.DatasetFolder('content/CIFAR/frames_number_10_split_by_number', loader = load_npz_frames, extensions=('.npz', '.npy'))#, data_type = 'frame', frames_number = 10, split_by = 'number')"
   ]
  },
  {
   "cell_type": "code",
   "execution_count": null,
   "id": "286a91c0-deb1-402d-9962-3cb3655da30f",
   "metadata": {},
   "outputs": [],
   "source": [
    "training_set, testing_validation_set = split_to_train_test_set(0.7, test_ds, 10)"
   ]
  },
  {
   "cell_type": "code",
   "execution_count": null,
   "id": "d49b4817-6fac-4d70-b57d-12f4a854b9bc",
   "metadata": {},
   "outputs": [],
   "source": [
    "import os\n",
    "import time\n",
    "from torch.utils.data import DataLoader, random_split\n",
    "from lava.lib.dl.slayer import loihi as slayer  # Import Lava's Loihi-compatible modules\n",
    "\n",
    "trained_folder = 'Trained'\n",
    "os.makedirs(trained_folder, exist_ok=True)\n",
    "\n",
    "# Initialize the network for Loihi\n",
    "start_time = time.time()\n",
    "net = LoihiNetwork()  # This is your SNN defined for Loihi\n",
    "end_time = time.time()\n",
    "setup_time = end_time - start_time\n",
    "print(f\"Setup time: {setup_time:.4f} seconds\")\n",
    "\n",
    "# Data preprocessing for SNNs\n",
    "# Assuming train_dataset_loaded and test_val_dataset_loaded are preprocessed for SNNs\n",
    "training_set = train_dataset_loaded\n",
    "testing_validation_set = test_val_dataset_loaded\n",
    "\n",
    "subset_size = len(testing_validation_set)\n",
    "subset1_size = subset_size // 2\n",
    "subset2_size = subset_size - subset1_size\n",
    "\n",
    "# Use random_split to split the initial subset randomly\n",
    "val_set, testing_set = random_split(testing_validation_set, [subset1_size, subset2_size])\n",
    "\n",
    "# Create DataLoaders for spike-encoded data\n",
    "train_loader = DataLoader(dataset=training_set, batch_size=16, shuffle=True)\n",
    "val_loader = DataLoader(dataset=val_set, batch_size=16, shuffle=True)\n",
    "test_loader = DataLoader(dataset=testing_set, batch_size=16, shuffle=True)"
   ]
  },
  {
   "cell_type": "code",
   "execution_count": null,
   "id": "2c44c419-c5cf-44e3-aa34-10b4dee58923",
   "metadata": {},
   "outputs": [],
   "source": [
    "error = slayer.loss.SpikeRate(true_rate=0.2, false_rate=0.03, reduction='sum').to(device)\n",
    "stats = slayer.utils.LearningStats()\n",
    "assistant = slayer.utils.Assistant(net, error, optimizer, stats, classifier=slayer.classifier.Rate.predict)"
   ]
  },
  {
   "cell_type": "code",
   "execution_count": null,
   "id": "e941c798-af66-49cd-ace0-97c31633f739",
   "metadata": {},
   "outputs": [],
   "source": []
  }
 ],
 "metadata": {
  "colab": {
   "provenance": []
  },
  "kernelspec": {
   "display_name": "Python 3 (ipykernel)",
   "language": "python",
   "name": "python3"
  },
  "language_info": {
   "codemirror_mode": {
    "name": "ipython",
    "version": 3
   },
   "file_extension": ".py",
   "mimetype": "text/x-python",
   "name": "python",
   "nbconvert_exporter": "python",
   "pygments_lexer": "ipython3",
   "version": "3.8.18"
  }
 },
 "nbformat": 4,
 "nbformat_minor": 5
}
